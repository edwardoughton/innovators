{
  "nbformat": 4,
  "nbformat_minor": 0,
  "metadata": {
    "colab": {
      "provenance": [],
      "authorship_tag": "ABX9TyOBDZnZFJSJNfuIlpS3P3OW",
      "include_colab_link": true
    },
    "kernelspec": {
      "name": "python3",
      "display_name": "Python 3"
    },
    "language_info": {
      "name": "python"
    }
  },
  "cells": [
    {
      "cell_type": "markdown",
      "metadata": {
        "id": "view-in-github",
        "colab_type": "text"
      },
      "source": [
        "<a href=\"https://colab.research.google.com/github/edwardoughton/innovators/blob/main/Intro_to_data_analysis.ipynb\" target=\"_parent\"><img src=\"https://colab.research.google.com/assets/colab-badge.svg\" alt=\"Open In Colab\"/></a>"
      ]
    },
    {
      "cell_type": "markdown",
      "source": [
        "## Introduction to code-based data analysis using Python\n",
        "\n",
        "\n",
        "Welcome to this NCAR Innovators tutorial on code-based data analysis in Python!\n",
        "\n",
        "\n",
        "Today we will cover a few key concepts in the time we have, including:\n",
        "\n",
        "* Working with Google Colab / Jupyter notebooks\n",
        "* Some very basic Python syntax\n",
        "* Importing data using Pandas\n",
        "* Generating some introductory plots\n",
        "* Discussion around the use of GenerativeAI\n",
        "\n",
        "I will stop at various points to ask if there are any questions. Feel free to interject if anything needs any additional explanation.\n",
        "\n"
      ],
      "metadata": {
        "id": "ICtP_HYbEJ76"
      }
    },
    {
      "cell_type": "markdown",
      "source": [
        "## Getting started with Google Colab\n",
        "\n",
        "All you need to begin is a Google account with Google Drive and an Internet connection (e.g., >10 Mbps).\n",
        "\n",
        "When we use Colab, we are essentially running a Jupyter Notebook in a web browser environment. The notebook format allows us to hold natural language text in the same place as reading, running and writing computer code.\n",
        "\n",
        "Jupyter notebook files are simple JSON documents, containing text, source code, rich media output, and metadata, with each segment of the document stored in a cell.\n",
        "\n",
        "Jupyter Notebooks were originally known as iPython Notebooks, thus the .ipynb file extension.\n",
        "\n",
        "There are some key benefits to using a this approach:\n",
        "\n",
        "* Colab allows us to engage with written natural language content, while running Python code simultaneously in a single integrated development environment.\n",
        "\n",
        "* Running Colab is far easier than the traditional approach to running Python on your own machine (which usually involves downloading a data science meta-package such as Anaconda, creating a virtual environment to run the code, and then getting started with your notebook etc.).\n",
        "\n",
        "* Thankfully, Colab does at lot of this hard work for us, enabling us to run Python code from a web browser on Google Cloud. Essentially, this is a virtual machine, meaning we will run the analysis on Google's servers, rather than using our own computing resources (e.g., CPU/GPU, RAM etc.).\n",
        "\n",
        "\n",
        "\n"
      ],
      "metadata": {
        "id": "Gw3gnR98EeUX"
      }
    },
    {
      "cell_type": "markdown",
      "source": [
        "## Opening this Colab notebook\n",
        "You can open this notebook and get started playing with some Python code by going to:\n",
        "\n",
        "https://github.com/edwardoughton/innovators\n",
        "\n",
        "Click on the `Intro_to_data_analysis.ipynb` notebook, and then the `Open in Colab` graphic.\n",
        "\n",
        "If this has worked correctly, you should be able to run the cell below containing the Python function `print()`, and the text string 'Hello Innovators!'."
      ],
      "metadata": {
        "id": "arR4FjdkGEoJ"
      }
    },
    {
      "cell_type": "code",
      "source": [
        "print('Hello Innovators!')"
      ],
      "metadata": {
        "colab": {
          "base_uri": "https://localhost:8080/"
        },
        "id": "etUiidjaPkWt",
        "outputId": "b6f27593-158c-4473-80ad-8158a93c6f8b"
      },
      "execution_count": 3,
      "outputs": [
        {
          "output_type": "stream",
          "name": "stdout",
          "text": [
            "Hello Innovators!\n"
          ]
        }
      ]
    },
    {
      "cell_type": "markdown",
      "source": [
        "## Exploring Colab\n",
        "We can spend two minutes opening a new notebook by going to the file menu (e.g., `New notebook in Drive`).\n",
        "\n",
        "The important thing to remember is that a Notebook has two modes:\n",
        "\n",
        "* **Edit mode**. Press enter (or double-click) on a cell to directly edit the contents you are located on.\n",
        "* **Command mode**. Press escape to exit a cell and then navigate elsewhere.\n",
        "Once you are in command mode, it is possible to navigate using the up or down arrows on your keyboard navigation section.\n",
        "\n",
        "Pressing shift and up/down will allow you to multiple highlight (e.g., in preparation for a copy/paste).\n",
        "\n",
        "To run a cell's contents (e.g., a piece of code), use control + enter.\n",
        "\n",
        "You can make new cells by adding either a text cell or code cell (e.g., via the `Insert` menu)."
      ],
      "metadata": {
        "id": "moA9h0HTPg9X"
      }
    },
    {
      "cell_type": "markdown",
      "source": [
        "## The basics of Python\n",
        "\n",
        "Python is a common programming language and can be defined many ways.\n",
        "\n",
        "A favorite of mine is that Python is just about the most powerful language available which you can still logically read.\n",
        "\n",
        "Here a few (and by no means exhaustive) introductory concepts will be covered, including:\n",
        "\n",
        "* In-line commenting\n",
        "* variables\n",
        "* data types\n",
        "* data structures\n",
        "* packages\n"
      ],
      "metadata": {
        "id": "tOlmkLChVn8D"
      }
    },
    {
      "cell_type": "code",
      "source": [
        "# In-line commenting\n",
        "# 2 + 2    <- hashed out, so Python does not execute 2 + 2!\n",
        "1 + 1     #<- whereas Python will execute this"
      ],
      "metadata": {
        "colab": {
          "base_uri": "https://localhost:8080/"
        },
        "id": "emtWvhzYY-zd",
        "outputId": "6cdd3895-63cc-4acc-b772-be41b39f162e"
      },
      "execution_count": 7,
      "outputs": [
        {
          "output_type": "execute_result",
          "data": {
            "text/plain": [
              "2"
            ]
          },
          "metadata": {},
          "execution_count": 7
        }
      ]
    },
    {
      "cell_type": "code",
      "source": [
        "# Example: Declaring and assigning variables\n",
        "my_variable = 4\n",
        "print(my_variable)"
      ],
      "metadata": {
        "colab": {
          "base_uri": "https://localhost:8080/"
        },
        "id": "ZXCuGi87VwpL",
        "outputId": "0770348d-2693-441e-ecbc-755ea2c349cb"
      },
      "execution_count": 9,
      "outputs": [
        {
          "output_type": "stream",
          "name": "stdout",
          "text": [
            "4\n"
          ]
        }
      ]
    },
    {
      "cell_type": "code",
      "source": [
        "# Example: integers, floats and strings data types\n",
        "my_integer = 8       # integer = whole number\n",
        "my_float = 3.14      # float = decimal number\n",
        "my_string = \"Hello\"  # string = text\n",
        "\n",
        "print(my_integer)\n",
        "print(my_float)\n",
        "print(my_string)"
      ],
      "metadata": {
        "colab": {
          "base_uri": "https://localhost:8080/"
        },
        "id": "O1dRB0HWW8Kb",
        "outputId": "660f1187-9f26-45e9-aad0-9dc15147db1b"
      },
      "execution_count": 10,
      "outputs": [
        {
          "output_type": "stream",
          "name": "stdout",
          "text": [
            "8\n",
            "3.14\n",
            "Hello\n"
          ]
        }
      ]
    },
    {
      "cell_type": "code",
      "source": [
        "# Example: tuples, lists and dictionary data structures\n",
        "my_tuple = (1, 2, 3)\n",
        "my_list = [1, 2, 3]\n",
        "my_dictionary = {\"a\": 1, \"b\": 2, \"c\": 3}\n",
        "\n",
        "print(my_tuple)\n",
        "print(my_list)\n",
        "print(my_dictionary)"
      ],
      "metadata": {
        "colab": {
          "base_uri": "https://localhost:8080/"
        },
        "id": "LwkLnRKCaXUo",
        "outputId": "9c8c29cc-5cd1-48ad-acee-90ce295247e1"
      },
      "execution_count": 11,
      "outputs": [
        {
          "output_type": "stream",
          "name": "stdout",
          "text": [
            "(1, 2, 3)\n",
            "[1, 2, 3]\n",
            "{'a': 1, 'b': 2, 'c': 3}\n"
          ]
        }
      ]
    },
    {
      "cell_type": "code",
      "source": [
        "# Example: Importing packages\n",
        "import numpy as np\n",
        "\n",
        "np.sqrt(25)"
      ],
      "metadata": {
        "colab": {
          "base_uri": "https://localhost:8080/"
        },
        "id": "t-ZEPv7IW8hC",
        "outputId": "844c0ab7-75d7-4ebb-9c79-5cc58fe278ed"
      },
      "execution_count": 13,
      "outputs": [
        {
          "output_type": "execute_result",
          "data": {
            "text/plain": [
              "5.0"
            ]
          },
          "metadata": {},
          "execution_count": 13
        }
      ]
    },
    {
      "cell_type": "code",
      "execution_count": null,
      "metadata": {
        "id": "fzAqYTSgJIK9"
      },
      "outputs": [],
      "source": [
        " # Imports and some settings to display wide tables\n",
        "import pandas as pd\n",
        "pd.options.display.max_rows = 60\n",
        "pd.options.display.min_rows = None\n",
        "import matplotlib.pylab as plt\n",
        "import numpy as np\n",
        "from collections import Counter\n",
        "from wordcloud import WordCloud, STOPWORDS\n",
        "\n",
        "# from gensim.summarization.summarizer import summarize\n",
        "# from gensim.summarization import keywords\n",
        "\n",
        "# from IPython.display import display, Markdown"
      ]
    },
    {
      "cell_type": "markdown",
      "source": [],
      "metadata": {
        "id": "4Kc8y_OZEIqx"
      }
    },
    {
      "cell_type": "code",
      "source": [
        "dataset = pd.read_csv(\"My Lovely Survey.csv\")\n",
        "dataset"
      ],
      "metadata": {
        "colab": {
          "base_uri": "https://localhost:8080/",
          "height": 310
        },
        "id": "4gPLntTxTxIW",
        "outputId": "197fdb79-8be0-4563-8392-9ce6f287ea6c"
      },
      "execution_count": null,
      "outputs": [
        {
          "output_type": "execute_result",
          "data": {
            "text/plain": [
              "                    Timestamp This is a Multiple Choice question?  \\\n",
              "0  2020/08/29 10:03:54 PM MDT                            Option 1   \n",
              "1  2020/08/29 10:04:50 PM MDT                            Option 1   \n",
              "2  2020/08/29 10:05:54 PM MDT                            Option 3   \n",
              "3  2020/08/29 10:06:51 PM MDT                            Option 2   \n",
              "4  2020/08/29 10:07:30 PM MDT                            Option 2   \n",
              "\n",
              "        This is a checkbox question  \\\n",
              "0                 Option 2;Option 4   \n",
              "1  Option 1;Option 4;Another option   \n",
              "2        Option 1;Option 3;Option 4   \n",
              "3                 Option 2;Option 3   \n",
              "4                 Option 3;Option 4   \n",
              "\n",
              "   On a scale of 1 to 5, 1 being I totally disagree and 5 I totally agree  \\\n",
              "0                                                  4                        \n",
              "1                                                  5                        \n",
              "2                                                  4                        \n",
              "3                                                  4                        \n",
              "4                                                  4                        \n",
              "\n",
              "                              An open ended question  \n",
              "0  Darrell Sales is no stranger to wildfires. As ...  \n",
              "1  Crews continued to beat back the three massive...  \n",
              "2  Every other week for the past 18 years, my wif...  \n",
              "3  Luckily we found a supermarket with ice and re...  \n",
              "4  And the California wine industry, already hurt...  "
            ],
            "text/html": [
              "\n",
              "  <div id=\"df-17b37794-7b4b-4714-aed5-3d9a2b297a55\" class=\"colab-df-container\">\n",
              "    <div>\n",
              "<style scoped>\n",
              "    .dataframe tbody tr th:only-of-type {\n",
              "        vertical-align: middle;\n",
              "    }\n",
              "\n",
              "    .dataframe tbody tr th {\n",
              "        vertical-align: top;\n",
              "    }\n",
              "\n",
              "    .dataframe thead th {\n",
              "        text-align: right;\n",
              "    }\n",
              "</style>\n",
              "<table border=\"1\" class=\"dataframe\">\n",
              "  <thead>\n",
              "    <tr style=\"text-align: right;\">\n",
              "      <th></th>\n",
              "      <th>Timestamp</th>\n",
              "      <th>This is a Multiple Choice question?</th>\n",
              "      <th>This is a checkbox question</th>\n",
              "      <th>On a scale of 1 to 5, 1 being I totally disagree and 5 I totally agree</th>\n",
              "      <th>An open ended question</th>\n",
              "    </tr>\n",
              "  </thead>\n",
              "  <tbody>\n",
              "    <tr>\n",
              "      <th>0</th>\n",
              "      <td>2020/08/29 10:03:54 PM MDT</td>\n",
              "      <td>Option 1</td>\n",
              "      <td>Option 2;Option 4</td>\n",
              "      <td>4</td>\n",
              "      <td>Darrell Sales is no stranger to wildfires. As ...</td>\n",
              "    </tr>\n",
              "    <tr>\n",
              "      <th>1</th>\n",
              "      <td>2020/08/29 10:04:50 PM MDT</td>\n",
              "      <td>Option 1</td>\n",
              "      <td>Option 1;Option 4;Another option</td>\n",
              "      <td>5</td>\n",
              "      <td>Crews continued to beat back the three massive...</td>\n",
              "    </tr>\n",
              "    <tr>\n",
              "      <th>2</th>\n",
              "      <td>2020/08/29 10:05:54 PM MDT</td>\n",
              "      <td>Option 3</td>\n",
              "      <td>Option 1;Option 3;Option 4</td>\n",
              "      <td>4</td>\n",
              "      <td>Every other week for the past 18 years, my wif...</td>\n",
              "    </tr>\n",
              "    <tr>\n",
              "      <th>3</th>\n",
              "      <td>2020/08/29 10:06:51 PM MDT</td>\n",
              "      <td>Option 2</td>\n",
              "      <td>Option 2;Option 3</td>\n",
              "      <td>4</td>\n",
              "      <td>Luckily we found a supermarket with ice and re...</td>\n",
              "    </tr>\n",
              "    <tr>\n",
              "      <th>4</th>\n",
              "      <td>2020/08/29 10:07:30 PM MDT</td>\n",
              "      <td>Option 2</td>\n",
              "      <td>Option 3;Option 4</td>\n",
              "      <td>4</td>\n",
              "      <td>And the California wine industry, already hurt...</td>\n",
              "    </tr>\n",
              "  </tbody>\n",
              "</table>\n",
              "</div>\n",
              "    <div class=\"colab-df-buttons\">\n",
              "\n",
              "  <div class=\"colab-df-container\">\n",
              "    <button class=\"colab-df-convert\" onclick=\"convertToInteractive('df-17b37794-7b4b-4714-aed5-3d9a2b297a55')\"\n",
              "            title=\"Convert this dataframe to an interactive table.\"\n",
              "            style=\"display:none;\">\n",
              "\n",
              "  <svg xmlns=\"http://www.w3.org/2000/svg\" height=\"24px\" viewBox=\"0 -960 960 960\">\n",
              "    <path d=\"M120-120v-720h720v720H120Zm60-500h600v-160H180v160Zm220 220h160v-160H400v160Zm0 220h160v-160H400v160ZM180-400h160v-160H180v160Zm440 0h160v-160H620v160ZM180-180h160v-160H180v160Zm440 0h160v-160H620v160Z\"/>\n",
              "  </svg>\n",
              "    </button>\n",
              "\n",
              "  <style>\n",
              "    .colab-df-container {\n",
              "      display:flex;\n",
              "      gap: 12px;\n",
              "    }\n",
              "\n",
              "    .colab-df-convert {\n",
              "      background-color: #E8F0FE;\n",
              "      border: none;\n",
              "      border-radius: 50%;\n",
              "      cursor: pointer;\n",
              "      display: none;\n",
              "      fill: #1967D2;\n",
              "      height: 32px;\n",
              "      padding: 0 0 0 0;\n",
              "      width: 32px;\n",
              "    }\n",
              "\n",
              "    .colab-df-convert:hover {\n",
              "      background-color: #E2EBFA;\n",
              "      box-shadow: 0px 1px 2px rgba(60, 64, 67, 0.3), 0px 1px 3px 1px rgba(60, 64, 67, 0.15);\n",
              "      fill: #174EA6;\n",
              "    }\n",
              "\n",
              "    .colab-df-buttons div {\n",
              "      margin-bottom: 4px;\n",
              "    }\n",
              "\n",
              "    [theme=dark] .colab-df-convert {\n",
              "      background-color: #3B4455;\n",
              "      fill: #D2E3FC;\n",
              "    }\n",
              "\n",
              "    [theme=dark] .colab-df-convert:hover {\n",
              "      background-color: #434B5C;\n",
              "      box-shadow: 0px 1px 3px 1px rgba(0, 0, 0, 0.15);\n",
              "      filter: drop-shadow(0px 1px 2px rgba(0, 0, 0, 0.3));\n",
              "      fill: #FFFFFF;\n",
              "    }\n",
              "  </style>\n",
              "\n",
              "    <script>\n",
              "      const buttonEl =\n",
              "        document.querySelector('#df-17b37794-7b4b-4714-aed5-3d9a2b297a55 button.colab-df-convert');\n",
              "      buttonEl.style.display =\n",
              "        google.colab.kernel.accessAllowed ? 'block' : 'none';\n",
              "\n",
              "      async function convertToInteractive(key) {\n",
              "        const element = document.querySelector('#df-17b37794-7b4b-4714-aed5-3d9a2b297a55');\n",
              "        const dataTable =\n",
              "          await google.colab.kernel.invokeFunction('convertToInteractive',\n",
              "                                                    [key], {});\n",
              "        if (!dataTable) return;\n",
              "\n",
              "        const docLinkHtml = 'Like what you see? Visit the ' +\n",
              "          '<a target=\"_blank\" href=https://colab.research.google.com/notebooks/data_table.ipynb>data table notebook</a>'\n",
              "          + ' to learn more about interactive tables.';\n",
              "        element.innerHTML = '';\n",
              "        dataTable['output_type'] = 'display_data';\n",
              "        await google.colab.output.renderOutput(dataTable, element);\n",
              "        const docLink = document.createElement('div');\n",
              "        docLink.innerHTML = docLinkHtml;\n",
              "        element.appendChild(docLink);\n",
              "      }\n",
              "    </script>\n",
              "  </div>\n",
              "\n",
              "\n",
              "<div id=\"df-52690ac3-479a-4727-8b80-d293d5213442\">\n",
              "  <button class=\"colab-df-quickchart\" onclick=\"quickchart('df-52690ac3-479a-4727-8b80-d293d5213442')\"\n",
              "            title=\"Suggest charts\"\n",
              "            style=\"display:none;\">\n",
              "\n",
              "<svg xmlns=\"http://www.w3.org/2000/svg\" height=\"24px\"viewBox=\"0 0 24 24\"\n",
              "     width=\"24px\">\n",
              "    <g>\n",
              "        <path d=\"M19 3H5c-1.1 0-2 .9-2 2v14c0 1.1.9 2 2 2h14c1.1 0 2-.9 2-2V5c0-1.1-.9-2-2-2zM9 17H7v-7h2v7zm4 0h-2V7h2v10zm4 0h-2v-4h2v4z\"/>\n",
              "    </g>\n",
              "</svg>\n",
              "  </button>\n",
              "\n",
              "<style>\n",
              "  .colab-df-quickchart {\n",
              "      --bg-color: #E8F0FE;\n",
              "      --fill-color: #1967D2;\n",
              "      --hover-bg-color: #E2EBFA;\n",
              "      --hover-fill-color: #174EA6;\n",
              "      --disabled-fill-color: #AAA;\n",
              "      --disabled-bg-color: #DDD;\n",
              "  }\n",
              "\n",
              "  [theme=dark] .colab-df-quickchart {\n",
              "      --bg-color: #3B4455;\n",
              "      --fill-color: #D2E3FC;\n",
              "      --hover-bg-color: #434B5C;\n",
              "      --hover-fill-color: #FFFFFF;\n",
              "      --disabled-bg-color: #3B4455;\n",
              "      --disabled-fill-color: #666;\n",
              "  }\n",
              "\n",
              "  .colab-df-quickchart {\n",
              "    background-color: var(--bg-color);\n",
              "    border: none;\n",
              "    border-radius: 50%;\n",
              "    cursor: pointer;\n",
              "    display: none;\n",
              "    fill: var(--fill-color);\n",
              "    height: 32px;\n",
              "    padding: 0;\n",
              "    width: 32px;\n",
              "  }\n",
              "\n",
              "  .colab-df-quickchart:hover {\n",
              "    background-color: var(--hover-bg-color);\n",
              "    box-shadow: 0 1px 2px rgba(60, 64, 67, 0.3), 0 1px 3px 1px rgba(60, 64, 67, 0.15);\n",
              "    fill: var(--button-hover-fill-color);\n",
              "  }\n",
              "\n",
              "  .colab-df-quickchart-complete:disabled,\n",
              "  .colab-df-quickchart-complete:disabled:hover {\n",
              "    background-color: var(--disabled-bg-color);\n",
              "    fill: var(--disabled-fill-color);\n",
              "    box-shadow: none;\n",
              "  }\n",
              "\n",
              "  .colab-df-spinner {\n",
              "    border: 2px solid var(--fill-color);\n",
              "    border-color: transparent;\n",
              "    border-bottom-color: var(--fill-color);\n",
              "    animation:\n",
              "      spin 1s steps(1) infinite;\n",
              "  }\n",
              "\n",
              "  @keyframes spin {\n",
              "    0% {\n",
              "      border-color: transparent;\n",
              "      border-bottom-color: var(--fill-color);\n",
              "      border-left-color: var(--fill-color);\n",
              "    }\n",
              "    20% {\n",
              "      border-color: transparent;\n",
              "      border-left-color: var(--fill-color);\n",
              "      border-top-color: var(--fill-color);\n",
              "    }\n",
              "    30% {\n",
              "      border-color: transparent;\n",
              "      border-left-color: var(--fill-color);\n",
              "      border-top-color: var(--fill-color);\n",
              "      border-right-color: var(--fill-color);\n",
              "    }\n",
              "    40% {\n",
              "      border-color: transparent;\n",
              "      border-right-color: var(--fill-color);\n",
              "      border-top-color: var(--fill-color);\n",
              "    }\n",
              "    60% {\n",
              "      border-color: transparent;\n",
              "      border-right-color: var(--fill-color);\n",
              "    }\n",
              "    80% {\n",
              "      border-color: transparent;\n",
              "      border-right-color: var(--fill-color);\n",
              "      border-bottom-color: var(--fill-color);\n",
              "    }\n",
              "    90% {\n",
              "      border-color: transparent;\n",
              "      border-bottom-color: var(--fill-color);\n",
              "    }\n",
              "  }\n",
              "</style>\n",
              "\n",
              "  <script>\n",
              "    async function quickchart(key) {\n",
              "      const quickchartButtonEl =\n",
              "        document.querySelector('#' + key + ' button');\n",
              "      quickchartButtonEl.disabled = true;  // To prevent multiple clicks.\n",
              "      quickchartButtonEl.classList.add('colab-df-spinner');\n",
              "      try {\n",
              "        const charts = await google.colab.kernel.invokeFunction(\n",
              "            'suggestCharts', [key], {});\n",
              "      } catch (error) {\n",
              "        console.error('Error during call to suggestCharts:', error);\n",
              "      }\n",
              "      quickchartButtonEl.classList.remove('colab-df-spinner');\n",
              "      quickchartButtonEl.classList.add('colab-df-quickchart-complete');\n",
              "    }\n",
              "    (() => {\n",
              "      let quickchartButtonEl =\n",
              "        document.querySelector('#df-52690ac3-479a-4727-8b80-d293d5213442 button');\n",
              "      quickchartButtonEl.style.display =\n",
              "        google.colab.kernel.accessAllowed ? 'block' : 'none';\n",
              "    })();\n",
              "  </script>\n",
              "</div>\n",
              "\n",
              "  <div id=\"id_6b11cca8-a059-4df0-bc44-65575bf30522\">\n",
              "    <style>\n",
              "      .colab-df-generate {\n",
              "        background-color: #E8F0FE;\n",
              "        border: none;\n",
              "        border-radius: 50%;\n",
              "        cursor: pointer;\n",
              "        display: none;\n",
              "        fill: #1967D2;\n",
              "        height: 32px;\n",
              "        padding: 0 0 0 0;\n",
              "        width: 32px;\n",
              "      }\n",
              "\n",
              "      .colab-df-generate:hover {\n",
              "        background-color: #E2EBFA;\n",
              "        box-shadow: 0px 1px 2px rgba(60, 64, 67, 0.3), 0px 1px 3px 1px rgba(60, 64, 67, 0.15);\n",
              "        fill: #174EA6;\n",
              "      }\n",
              "\n",
              "      [theme=dark] .colab-df-generate {\n",
              "        background-color: #3B4455;\n",
              "        fill: #D2E3FC;\n",
              "      }\n",
              "\n",
              "      [theme=dark] .colab-df-generate:hover {\n",
              "        background-color: #434B5C;\n",
              "        box-shadow: 0px 1px 3px 1px rgba(0, 0, 0, 0.15);\n",
              "        filter: drop-shadow(0px 1px 2px rgba(0, 0, 0, 0.3));\n",
              "        fill: #FFFFFF;\n",
              "      }\n",
              "    </style>\n",
              "    <button class=\"colab-df-generate\" onclick=\"generateWithVariable('dataset')\"\n",
              "            title=\"Generate code using this dataframe.\"\n",
              "            style=\"display:none;\">\n",
              "\n",
              "  <svg xmlns=\"http://www.w3.org/2000/svg\" height=\"24px\"viewBox=\"0 0 24 24\"\n",
              "       width=\"24px\">\n",
              "    <path d=\"M7,19H8.4L18.45,9,17,7.55,7,17.6ZM5,21V16.75L18.45,3.32a2,2,0,0,1,2.83,0l1.4,1.43a1.91,1.91,0,0,1,.58,1.4,1.91,1.91,0,0,1-.58,1.4L9.25,21ZM18.45,9,17,7.55Zm-12,3A5.31,5.31,0,0,0,4.9,8.1,5.31,5.31,0,0,0,1,6.5,5.31,5.31,0,0,0,4.9,4.9,5.31,5.31,0,0,0,6.5,1,5.31,5.31,0,0,0,8.1,4.9,5.31,5.31,0,0,0,12,6.5,5.46,5.46,0,0,0,6.5,12Z\"/>\n",
              "  </svg>\n",
              "    </button>\n",
              "    <script>\n",
              "      (() => {\n",
              "      const buttonEl =\n",
              "        document.querySelector('#id_6b11cca8-a059-4df0-bc44-65575bf30522 button.colab-df-generate');\n",
              "      buttonEl.style.display =\n",
              "        google.colab.kernel.accessAllowed ? 'block' : 'none';\n",
              "\n",
              "      buttonEl.onclick = () => {\n",
              "        google.colab.notebook.generateWithVariable('dataset');\n",
              "      }\n",
              "      })();\n",
              "    </script>\n",
              "  </div>\n",
              "\n",
              "    </div>\n",
              "  </div>\n"
            ],
            "application/vnd.google.colaboratory.intrinsic+json": {
              "type": "dataframe",
              "variable_name": "dataset",
              "summary": "{\n  \"name\": \"dataset\",\n  \"rows\": 5,\n  \"fields\": [\n    {\n      \"column\": \"Timestamp\",\n      \"properties\": {\n        \"dtype\": \"object\",\n        \"num_unique_values\": 5,\n        \"samples\": [\n          \"2020/08/29 10:04:50 PM MDT\",\n          \"2020/08/29 10:07:30 PM MDT\",\n          \"2020/08/29 10:05:54 PM MDT\"\n        ],\n        \"semantic_type\": \"\",\n        \"description\": \"\"\n      }\n    },\n    {\n      \"column\": \"This is a Multiple Choice question?\",\n      \"properties\": {\n        \"dtype\": \"string\",\n        \"num_unique_values\": 3,\n        \"samples\": [\n          \"Option 1\",\n          \"Option 3\",\n          \"Option 2\"\n        ],\n        \"semantic_type\": \"\",\n        \"description\": \"\"\n      }\n    },\n    {\n      \"column\": \"This is a checkbox question\",\n      \"properties\": {\n        \"dtype\": \"string\",\n        \"num_unique_values\": 5,\n        \"samples\": [\n          \"Option 1;Option 4;Another option\",\n          \"Option 3;Option 4\",\n          \"Option 1;Option 3;Option 4\"\n        ],\n        \"semantic_type\": \"\",\n        \"description\": \"\"\n      }\n    },\n    {\n      \"column\": \"On a scale of 1 to 5, 1 being I totally disagree and 5 I totally agree\",\n      \"properties\": {\n        \"dtype\": \"number\",\n        \"std\": 0,\n        \"min\": 4,\n        \"max\": 5,\n        \"num_unique_values\": 2,\n        \"samples\": [\n          5,\n          4\n        ],\n        \"semantic_type\": \"\",\n        \"description\": \"\"\n      }\n    },\n    {\n      \"column\": \"An open ended question\",\n      \"properties\": {\n        \"dtype\": \"string\",\n        \"num_unique_values\": 5,\n        \"samples\": [\n          \"Crews continued to beat back the three massive wildfires burning across the Bay Area on Friday \\u2014 as smoke covered and diminished the air quality in San Francisco and Oakland.\\n\\nThe air quality in San Francisco and parts of the East Bay reached \\u201cunhealthy\\u201d levels Friday, and it\\u2019s still too soon to tell whether this weekend will provide a respite from wildfire smoke. Some COVID-19 testing sites were forced to shut down in San Francisco later Friday due to air quality.\\n\\nThe blazes had scorched a combined 829,948 acres across the Bay Area.\\n\\nIn the North Bay, about 7,000 evacuees from the LNU Lightning Complex have been allowed back into their homes, with repopulation efforts taking place among much of the southern section of the Hennessey Fire, burning in Napa County.\",\n          \"And the California wine industry, already hurting at the hands of the pandemic, now faces the specter of \\u201csmoke taint\\u201d in grapes, few of which had been harvested before the fires started.\\n\\nIn San Francisco, where the twin-calamity challenge is more about tolerance than survival, disaster dissonance is also on display. Back in the (now carefree-seeming) spring when everything shut down, people embraced the great outdoors. Because germs are better dispersed outside, and exercise is good for the mind and immune system, public parks filled up so fast that social distancing there was hard to maintain. You might think you could take your mask off in nature, but turns out you have to keep putting it back on whenever somebody comes around the next bend \\u2014 which is to say, every other minute.\\n\\nNow we\\u2019re supposed to stay inside because smoke-filled air isn\\u2019t safe to breathe. Even if we wanted to buck the advisories and take our chances, parks are closed because of fire danger. (The good news: Trails are now empty.) We\\u2019ve all been dreading the onset of winter and its Covid-19 consequences indoors, but to paraphrase a local doctor at a hospital faced with closing an outdoor waiting area because of the unhealthy air quality: It\\u2019s like winter started in August.\"\n        ],\n        \"semantic_type\": \"\",\n        \"description\": \"\"\n      }\n    }\n  ]\n}"
            }
          },
          "metadata": {},
          "execution_count": 2
        }
      ]
    },
    {
      "cell_type": "code",
      "source": [
        " def plotHorzBar(column):\n",
        "  data = df[column]\n",
        "  count = {}\n",
        "  for d in data:\n",
        "    words = d.split(\";\")\n",
        "    for w in words:\n",
        "      if w in count.keys():\n",
        "        count[w] = count[w] + 1\n",
        "      else:\n",
        "        count[w] = 1\n",
        "\n",
        "  y_pos = np.arange(len(count.keys()))\n",
        "  plt.barh(y_pos,count.values())\n",
        "  plt.yticks(y_pos, count.keys())\n",
        "  plt.show()\n",
        "\n",
        "df = dataset.copy()\n",
        "df\n",
        "plotHorzBar(\"This is a checkbox question\")"
      ],
      "metadata": {
        "colab": {
          "base_uri": "https://localhost:8080/",
          "height": 430
        },
        "id": "RZfDpFOTUChz",
        "outputId": "98711152-20aa-40ab-c804-8d720a473de3"
      },
      "execution_count": null,
      "outputs": [
        {
          "output_type": "display_data",
          "data": {
            "text/plain": [
              "<Figure size 640x480 with 1 Axes>"
            ],
            "image/png": "[encoded data removed]"
          },
          "metadata": {}
        }
      ]
    },
    {
      "cell_type": "markdown",
      "source": [],
      "metadata": {
        "id": "dRgeYZRpJOQ7"
      }
    }
  ]
}